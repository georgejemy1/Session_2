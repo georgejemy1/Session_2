{
 "cells": [
  {
   "cell_type": "code",
   "execution_count": null,
   "id": "0f18db7f",
   "metadata": {},
   "outputs": [],
   "source": [
    "G = 6.67 * (10**-11)\n",
    "M_Earth = 6.0 * (10**24)\n",
    "M_Moon = 7.34 * (10**22)\n",
    "r = 3.84 *(10**8)\n",
    "FG = (G * M_Earth * M_Moon)/ (r**2)\n",
    "print (FG)"
   ]
  }
 ],
 "metadata": {
  "kernelspec": {
   "display_name": "Python 3 (ipykernel)",
   "language": "python",
   "name": "python3"
  },
  "language_info": {
   "codemirror_mode": {
    "name": "ipython",
    "version": 3
   },
   "file_extension": ".py",
   "mimetype": "text/x-python",
   "name": "python",
   "nbconvert_exporter": "python",
   "pygments_lexer": "ipython3",
   "version": "3.10.12"
  }
 },
 "nbformat": 4,
 "nbformat_minor": 5
}
